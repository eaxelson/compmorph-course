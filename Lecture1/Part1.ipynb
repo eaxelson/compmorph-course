{
 "cells": [
  {
   "cell_type": "markdown",
   "metadata": {},
   "source": [
    "# COMPUTATIONAL MORPHOLOGY WITH HFST TOOLS - LECTURE 1\n",
    "\n",
    "## HFST - Helsinki Finite-State Technology\n",
    "\n",
    "The HFST toolkit is intended for processing natural language\n",
    "morphologies. The toolkit is demonstrated by wide-coverage\n",
    "implementations of a number of languages of varying morphological\n",
    "complexity. HFST is written mainly in C++, but there is a Python interface\n",
    "which is demonstrated on these notebooks.\n",
    "\n",
    "## Prerequisites\n",
    "\n",
    "* Foundations of general linguistics\n",
    "* Basic knowledge on how to use a computer\n",
    " * Some programming experience is desirable\n",
    "* Knowledge of Natural Language Processing (NLP) is also a plus\n",
    "\n",
    "## Course material\n",
    "\n",
    "If you want a book:\n",
    "\n",
    "* Kenneth R. Beesley and Lauri Karttunen: [Finite State Morphology](http://press.uchicago.edu/ucp/books/book/distributed/F/bo3613750.html), CSLI Publications, 2003.\n",
    "* Daniel Jurafsky and James H. Martin, Speech and Language Processing, Prentice Hall, second edition, 2009\n",
    "\n",
    "Links:\n",
    "\n",
    "* HFST [main page](https://hfst.github.io).\n",
    "* For installation of the HFST package for Python, see our [PyPI pages](https://pypi.org/project/hfst/).\n",
    "* For more information about the interface, see our [Github wiki pages](https://github.com/hfst/python-hfst-4.0/wiki).\n",
    "\n",
    "First, import the package and list its contents with `help`."
   ]
  },
  {
   "cell_type": "code",
   "execution_count": null,
   "metadata": {},
   "outputs": [],
   "source": [
    "import sys\n",
    "sys.path.insert(0, '/data/eaxelson/hfst-git/hfst-dev-4.0/hfst/python')\n",
    "import hfst_dev\n",
    "help(hfst_dev)"
   ]
  },
  {
   "cell_type": "markdown",
   "metadata": {},
   "source": [
    "Then, see for more information on some of the functions, e.g. `compile_lexc_file`."
   ]
  },
  {
   "cell_type": "code",
   "execution_count": null,
   "metadata": {},
   "outputs": [],
   "source": [
    "help(hfst_dev.compile_lexc_file)"
   ]
  },
  {
   "cell_type": "markdown",
   "metadata": {},
   "source": [
    "Also print the version number of the package."
   ]
  },
  {
   "cell_type": "code",
   "execution_count": null,
   "metadata": {},
   "outputs": [],
   "source": [
    "print(hfst_dev.__version__)"
   ]
  },
  {
   "cell_type": "markdown",
   "metadata": {},
   "source": [
    "## Course overview\n",
    "\n",
    "| Lecture | Topics |\n",
    "| - | - |\n",
    "| 1 | (Introduction), lexc, xfst, replace rules |\n",
    "| 2 | Weighted finite state machines, (unsupervised morphology) |\n",
    "| 3 | Regular expressions, pronunciation lexicons, guessers, stemmers, twolc, two-level rules |\n",
    "| 4 | Flag diacritics, non-concatenative morphology |\n",
    "| 5 | Optimization of finite-state networks |\n",
    "| 6 | (Guest lecture) |\n",
    "| 7 | (Final project demos, technical presentetions) |"
   ]
  },
  {
   "cell_type": "markdown",
   "metadata": {},
   "source": [
    "## 4. Hockett's models of morphology\n",
    "\n",
    "### Word and Paradigm (W&P), Example: Finnish nouns\n",
    "\n",
    "| Numbers/Cases | Singular | Plural |\n",
    "| - | - | - |\n",
    "| *Nominative* | susi | sudet | \n",
    "| *Genitive* | suden | susien, sutten |\n",
    "| *Partitive* | sutta | susia |\n",
    "| *Inessive* | sudessa | susissa |\n",
    "| *Elative* | sudesta | susista |\n",
    "| *Illative* | suteen | susiin |\n",
    "| *Adessive* | sudella | susilla |\n",
    "| *Ablative* | sudelta | susilta |\n",
    "| *Allative* | sudelle | susille |\n",
    "| *Essive* | sutena | susina |\n",
    "| *Translative* | sudeksi | susiksi |\n",
    "| *Instructive* | - | susin |\n",
    "| *Abessive* | sudetta | susitta |\n",
    "| *Comitative* | - | susine(en) |\n",
    "\n",
    "### Item and Arrangement (I&A)\n",
    "\n",
    "* Morphemes and allomorphs\n",
    "  - \"SUSI\": susi, sude-, sute-, sut-, sus-\n",
    "  - Number:\n",
    "    * Singular: ∅ (or no morpheme at all: unmarked)\n",
    "    * Plural: -t, -i-, -j-\n",
    "  - Case:\n",
    "    * Genitive: -n, -en, -den, -tten\n",
    "    * Partitive: -a, -ä, -ta, -tä\n",
    "    * Etc.\n",
    "* The allomorphs occur in a specific distribution:\n",
    "  - E.g., sus- in all plural forms except nominative\n",
    "  - No allomorph is more \"basic\" than any other.\n",
    "\n",
    "### Item and Process (I&P)\n",
    "\n",
    "We have roots or bases of morphemes and different processes apply to them.\n",
    "\n",
    "* Nominative: word final 'e' becomes 'i'; 't' in front of 'i' becomes 's' 🡒 \"susi\"\n",
    "* Genitive: add suffix '+n'; soften 't' to 'd' in closed syllable 🡒 \"suden\"\n",
    "* Etc.\n",
    "\n",
    "### Corresponding HFST tools\n",
    "\n",
    "| Model/Tool | [compile_twolc_file](https://github.com/hfst/python-hfst-4.0/wiki/PackageHfst#compile_twolc_file-inputfilename-outputfilename-kwargs) | [compile_lexc_file](https://github.com/hfst/python-hfst-4.0/wiki/PackageHfst#compile_lexc_file-filename-kwargs) | [compile_xfst_file](https://github.com/hfst/python-hfst-4.0/wiki/PackageHfst#compile_xfst_file-filename-kwargs) |\n",
    "| - | - | - | - |\n",
    "| Word & Paradigm |  | ✔ | ✔ |\n",
    "| Item & Arrangement |  | ✔ | ✔ |\n",
    "| Item & Process | ✔ |  | ✔ |\n",
    "\n",
    "See how they work. twolc:"
   ]
  },
  {
   "cell_type": "code",
   "execution_count": null,
   "metadata": {},
   "outputs": [],
   "source": [
    "help(hfst_dev.compile_twolc_file)"
   ]
  },
  {
   "cell_type": "markdown",
   "metadata": {},
   "source": [
    "lexc:"
   ]
  },
  {
   "cell_type": "code",
   "execution_count": null,
   "metadata": {},
   "outputs": [],
   "source": [
    "help(hfst_dev.compile_lexc_file)"
   ]
  },
  {
   "cell_type": "markdown",
   "metadata": {},
   "source": [
    "xfst:"
   ]
  },
  {
   "cell_type": "code",
   "execution_count": null,
   "metadata": {},
   "outputs": [],
   "source": [
    "help(hfst_dev.compile_xfst_file)"
   ]
  },
  {
   "cell_type": "markdown",
   "metadata": {},
   "source": [
    "interactive version of xfst:"
   ]
  },
  {
   "cell_type": "code",
   "execution_count": null,
   "metadata": {},
   "outputs": [],
   "source": [
    "help(hfst_dev.start_xfst)"
   ]
  },
  {
   "cell_type": "markdown",
   "metadata": {},
   "source": [
    "## 5. Morphological generators and analyzers\n",
    "\n",
    "### Morphological generator\n",
    "\n",
    "* Input (also called lexical form): `cat+N+Sg+Poss`\n",
    "* Output (also called surface form): `cat's`\n",
    "* The idea is to create a model that generalizes to new word forms.\n",
    "  - Wrong way: List all possible pairs of input and output in the lexeme:\n",
    "    * `cat+N+Sg` 🡒 cat\n",
    "    * `cat+N+Pl` 🡒 cats\n",
    "    * `cat+N+Sg+Poss` 🡒 cat's\n",
    "    * `cat+N+Pl+Poss` 🡒 cats'\n",
    "  - Right way: Model the inner regular morphological structure of words.\n",
    "    * This makes it possible to add a new lemma, such as `dog`, and the model knows how to inflect this word by analogy to the word `cat`.\n",
    "\n",
    "### Morphological analyzer\n",
    "\n",
    "* Input (surface form): `cat's`\n",
    "* Output (lexical form): `cat+N+Sg+Poss`\n",
    "* An analyzer produces the opposite mapping compared to the generator:\n",
    "  - The input of the generator is the output of the analyzer.\n",
    "  - The output of the analyzer is the input of the generator.\n",
    "* An analyzer is very useful, for instance:\n",
    "  - when we want to parse natural language text syntactically\n",
    "  - when we want to _normalize_ text, such that we only care about the base form (lemma) of every word in the text; this is used, for instance, in _information_ _retrieval_.\n",
    "\n",
    "## Some simple noun paradigms in English\n",
    "\n",
    "```\n",
    "Paradigm: N\n",
    "cat +Sg (singular)\n",
    "cat|s +Pl (plural)\n",
    "cat|'s +Sg +Poss (singular possessive)\n",
    "cat|s' +Pl +Poss (plural possessive)\n",
    "Similarly: dog, pet, book, hill, fan\n",
    "```\n",
    "\n",
    "```\n",
    "Paradigm: N_s\n",
    "kiss +Sg (singular)\n",
    "kiss|es +Pl (plural)\n",
    "kiss|'s +Sg +Poss (singular possessive)\n",
    "kiss|es|' +Pl +Poss (plural possessive)\n",
    "Similarly: wish, mess, church, search, waitress\n",
    "```\n",
    "\n",
    "Let's create a morphological generator and analyzer for this data."
   ]
  },
  {
   "cell_type": "markdown",
   "metadata": {},
   "source": [
    "## 6. A Finite-State Transducer that implements a morphological generator\n",
    "\n",
    "Below is a finite-state transducer (FST) for purely concatenative I&A English noun inflection\n",
    "for our simple example data.\n",
    "The yellow circles represent _states_ and the arrows represent _transitions_ between the states.\n",
    "State named _\"Root\"_ is the initial state and state named_\"#\"_ the final one.\n",
    "Above each transition, there is the input\n",
    "that the transition _consumes_ and the output that it _produces_, separated with a colon \":\".\n",
    "The \"ε:ε\" signifies the _epsilon_ transition which is possible without consuming\n",
    "any input or producing any output.\n",
    "We will return to finite-state transducers in more detail in the next part.\n",
    "\n",
    "<img src=\"img/noun_inflection.png\">"
   ]
  },
  {
   "cell_type": "markdown",
   "metadata": {},
   "source": [
    "## 7. LexC code that represents this transducer\n",
    "\n",
    "### 7.1 Define all symbols consisting of multiple characters\n",
    "\n",
    "```\n",
    "Multichar_Symbols\n",
    "        +N      ! Noun tag\n",
    "        +Sg     ! Singular\n",
    "        +Pl     ! Plural\n",
    "        +Poss   ! Possessive form\n",
    "                ! Another comment that is ignored by the compiler\n",
    "```\n",
    "\n",
    "Anything between an exclamation mark and the end of a line\n",
    "is a comment. Comments are ignored by the lexc compiler.\n",
    "Use comments a lot!\n",
    "Your code will be clearer to yourself and to others.\n",
    "\n",
    "### 7.2 Define the compulsory Root lexicon\n",
    "\n",
    "```\n",
    "LEXICON Root\n",
    "        Nouns ; ! No input, no output\n",
    "```\n",
    "\n",
    "This is equivalent to writing:\n",
    "\n",
    "```\n",
    "LEXICON Root\n",
    "0:0     Nouns ; ! Explicitly showing no input, no output\n",
    "```\n",
    "\n",
    "This is further equivalent to writing:\n",
    "\n",
    "```\n",
    "LEXICON Root\n",
    "0       Nouns ; ! When the input and output are identical,\n",
    "                ! you can type only the input side\n",
    "```\n",
    "\n",
    "<img src=\"img/root_lexicon.png\">\n",
    "\n",
    "### 7.3 Define the Nouns lexicon\n",
    "\n",
    "```\n",
    "!\n",
    "! NOUNS start here\n",
    "!\n",
    "\n",
    "LEXICON Nouns\n",
    "\n",
    "cat     N ;\n",
    "dog     N ;\n",
    "\n",
    "church    N_s ;\n",
    "kiss      N_s ;\n",
    "\n",
    "beauty:beaut    N_y ;\n",
    "sky:sk          N_y ; \n",
    "\n",
    "```\n",
    "<img src=\"img/nouns_lexicon.png\">\n",
    "\n",
    "### 7.4 Continuation lexicons for the N paradigm\n",
    "\n",
    "```\n",
    "! The noun lexica N and Num are used for stems without\n",
    "! any alternation\n",
    "\n",
    "LEXICON N\n",
    "+N:0    Num ;\n",
    "\n",
    "LEXICON Num\n",
    "+Sg:0   PossWithS ;\n",
    "+Pl:s   PossWithoutS ;\n",
    "```\n",
    "\n",
    "<img src=\"img/n_paradigm.png\">\n",
    "\n",
    "### 7.5 Continuation lexicons for the N_s paradigm\n",
    "\n",
    "```\n",
    "! The noun lexica N_s and Num_s are used for stems that\n",
    "! end in a sibilant and need an extra inserted \"e\"\n",
    "\n",
    "LEXICON N_s\n",
    "+N:0    Num_s ;\n",
    "\n",
    "LEXICON Num_s\n",
    "+Sg:0   PossWithS ;\n",
    "+Pl:es  PossWithoutS ;\n",
    "```\n",
    "\n",
    "<img src=\"img/ns_paradigm.png\">\n",
    "\n",
    "### 7.6 Continuation lexicons for the N_y paradigm\n",
    "\n",
    "```\n",
    "! The noun lexica N_y and Num_y are used for stems with\n",
    "! \"y\" -> \"ie\" alternation\n",
    "\n",
    "LEXICON N_y\n",
    "+N:0    Num_y ;\n",
    "\n",
    "LEXICON Num_y\n",
    "+Sg:y   PossWithS ;\n",
    "+Pl:ies PossWithoutS ;\n",
    "```\n",
    "\n",
    "<img src=\"img/ny_paradigm.png\">\n",
    "\n",
    "### 7.7 Continuation lexicons for possessive ending\n",
    "\n",
    "```\n",
    "! Possessive endings: usually the singular is 's and \n",
    "! the plural is '\n",
    "\n",
    "LEXICON PossWithS\n",
    "+Poss:'s    # ; \n",
    "            # ; ! No ending: no input/output \n",
    "\n",
    "LEXICON PossWithoutS \n",
    "+Poss:'     # ;\n",
    "            # ; ! No ending: no input/output\n",
    "\n",
    "END\n",
    "```\n",
    "<img src=\"img/poss_ending.png\">\n",
    "\n",
    "Note that `END` signifies the end of lexc file. It must be included at the end of each LexC file.\n",
    "\n",
    "Finally, let's compile the LexC script into a transducer:"
   ]
  },
  {
   "cell_type": "code",
   "execution_count": null,
   "metadata": {},
   "outputs": [],
   "source": [
    "from hfst_dev import compile_lexc_script"
   ]
  },
  {
   "cell_type": "code",
   "execution_count": null,
   "metadata": {},
   "outputs": [],
   "source": [
    "generator = compile_lexc_script(\n",
    "\"\"\"\n",
    "Multichar_Symbols\n",
    "\t+N\t! Noun tag\n",
    "        +Sg\t! Singular\n",
    "        +Pl\t! Plural\n",
    " \t+Poss\t! Possessive form\n",
    "\n",
    "LEXICON Root\n",
    "\tNouns ; ! No input, no output\n",
    "\n",
    "!\n",
    "! NOUNS start here\n",
    "!\n",
    "\n",
    "LEXICON Nouns\n",
    "\n",
    "cat\tN ;\n",
    "dog\tN ;\n",
    "\n",
    "church\t  N_s ;\n",
    "kiss\t  N_s ;\n",
    "\n",
    "beauty:beaut\tN_y ;\n",
    "sky:sk\t\tN_y ;\n",
    "\n",
    "\n",
    "! The noun lexica N and Num are used for stems without any alternation\n",
    "\n",
    "LEXICON N\n",
    "+N:0\tNum ;\n",
    "\n",
    "LEXICON Num\n",
    "+Sg:0\tPossWithS ;\n",
    "+Pl:s\tPossWithoutS ;\n",
    "\n",
    "! The noun lexica N_s and Num_s are used for stems that end in a sibilant\n",
    "! and need an extra inserted \"e\"\n",
    "\n",
    "LEXICON N_s\n",
    "+N:0\tNum_s ;\n",
    "\n",
    "LEXICON Num_s\n",
    "+Sg:0\tPossWithS ;\n",
    "+Pl:es\tPossWithoutS ;\n",
    "\n",
    "! The noun lexica N_y and Num_y are used for stems with \"y\" -> \"ie\" alternation\n",
    "\n",
    "LEXICON N_y\n",
    "+N:0\tNum_y ;\n",
    "\n",
    "LEXICON Num_y\n",
    "+Sg:y\tPossWithS ;\n",
    "+Pl:ies\tPossWithoutS ;\n",
    "\n",
    "! Possessive endings: usually the singular is 's and the plural is '\n",
    "\n",
    "LEXICON PossWithS\n",
    "+Poss:'s     # ;\n",
    "\t     # ; ! No ending: no input, no output\n",
    "\n",
    "LEXICON PossWithoutS\n",
    "+Poss:'\t     # ;\n",
    "\t     # ; ! No ending: no input, no output\n",
    "\n",
    "END\n",
    "\"\"\", verbosity=2\n",
    ")"
   ]
  },
  {
   "cell_type": "markdown",
   "metadata": {},
   "source": [
    "We could also write the script to a file and then call `compile_lexc_file`.\n",
    "\n",
    "Test the transducer:"
   ]
  },
  {
   "cell_type": "code",
   "execution_count": null,
   "metadata": {},
   "outputs": [],
   "source": [
    "print(generator.lookup('sky+N+Pl'))"
   ]
  },
  {
   "cell_type": "markdown",
   "metadata": {},
   "source": [
    "expect the result `(('skies', 0.0),)`, i.e. output \"skies\" with a zero _weight_. We will return to weights in later lectures.\n",
    "\n",
    "Next, _invert_ the transducer to get an analyzer:"
   ]
  },
  {
   "cell_type": "code",
   "execution_count": null,
   "metadata": {},
   "outputs": [],
   "source": [
    "from hfst_dev import HfstTransducer\n",
    "analyzer = HfstTransducer(generator)\n",
    "analyzer.invert()\n",
    "analyzer.minimize()"
   ]
  },
  {
   "cell_type": "code",
   "execution_count": null,
   "metadata": {},
   "outputs": [],
   "source": [
    "print(analyzer.lookup('skies'))"
   ]
  },
  {
   "cell_type": "markdown",
   "metadata": {},
   "source": [
    "expect the result `(('sky+N+Pl', 0.0),)`, i.e. output \"a noun 'skies' in plural with a zero weight\"."
   ]
  }
 ],
 "metadata": {
  "jupytext": {
   "main_language": "python",
   "text_representation": {
    "extension": ".py",
    "format_name": "light"
   }
  }
 },
 "nbformat": 4,
 "nbformat_minor": 2
}
