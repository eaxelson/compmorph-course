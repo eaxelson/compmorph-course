{
 "cells": [
  {
   "cell_type": "markdown",
   "metadata": {},
   "source": [
    "# HFST - Helsinki Finite-State Technology\n",
    "\n",
    "The HFST toolkit is intended for processing natural language\n",
    "morphologies. The toolkit is demonstrated by wide-coverage\n",
    "implementations of a number of languages of varying morphological\n",
    "complexity. HFST is written mainly in C++, but there is a Python interface\n",
    "which is demonstrated on these notebooks.\n",
    "\n",
    "For installation of the HFST package for Python, see our [PyPI pages](https://pypi.org/project/hfst/).\n",
    "\n",
    "For more information about the interface, see our [Github wiki pages](https://github.com/hfst/python-hfst-4.0/wiki).\n",
    "\n",
    "This notebook page demonstrates morphological analysis and generation with HFST python API.\n",
    "\n",
    "## 1. Using existing morphologies\n",
    "\n",
    "### 1.1 Use standalone morphology packages (does not work yet)\n",
    "\n",
    "First import the morphology packages with:\n",
    "\n",
    "`pip import hfst-morphologies`\n",
    "\n",
    "start python and run:"
   ]
  },
  {
   "cell_type": "code",
   "execution_count": null,
   "metadata": {},
   "outputs": [],
   "source": [
    "from hfst_morphologies import english_bnc"
   ]
  },
  {
   "cell_type": "code",
   "execution_count": null,
   "metadata": {},
   "outputs": [],
   "source": [
    "english_bnc.analyze('cat')"
   ]
  },
  {
   "cell_type": "markdown",
   "metadata": {},
   "source": [
    "Expect the result:\n",
    "\n",
    "```\n",
    "cat[N]+N        10.203125\n",
    "cat[V]+V+INF    18.454102\n",
    "```"
   ]
  },
  {
   "cell_type": "code",
   "execution_count": null,
   "metadata": {},
   "outputs": [],
   "source": [
    "english_bnc.generate('cat[N]+N')"
   ]
  },
  {
   "cell_type": "markdown",
   "metadata": {},
   "source": [
    "Expect the result:\n",
    "\n",
    "```\n",
    "cat     10.203125\n",
    "Cat     15.745117\n",
    "```"
   ]
  },
  {
   "cell_type": "code",
   "execution_count": null,
   "metadata": {},
   "outputs": [],
   "source": [
    "english_bnc.tokenize('This is a cat.')"
   ]
  },
  {
   "cell_type": "markdown",
   "metadata": {},
   "source": [
    "Expect the result:\n",
    "\n",
    "`('This', 'is', 'a', 'cat', '.')`"
   ]
  },
  {
   "cell_type": "markdown",
   "metadata": {},
   "source": [
    "### 1.2 Download the morphologies and process them with HFST\n",
    "\n",
    "For instance, download the English morphology from\n",
    "[Kielipankki](https://korp.csc.fi/download/hfst-morphologies/en/wn-bnc/hfst-en-morph-wn-bnc.zip) (The Language Bank of Finland),\n",
    "extract it and run python:"
   ]
  },
  {
   "cell_type": "code",
   "execution_count": null,
   "metadata": {},
   "outputs": [],
   "source": [
    "from hfst_dev import HfstTransducer"
   ]
  },
  {
   "cell_type": "code",
   "execution_count": null,
   "metadata": {},
   "outputs": [],
   "source": [
    "analyzer = HfstTransducer.read_from_file('hfst-en-morph-wn-bnc/english.hfst')\n",
    "analyzer.lookup_optimize()\n",
    "generator = HfstTransducer.read_from_file('hfst-en-morph-wn-bnc/hfst-english-installable/en-generation.hfst.ol')"
   ]
  },
  {
   "cell_type": "code",
   "execution_count": null,
   "metadata": {},
   "outputs": [],
   "source": [
    "print(analyzer.lookup('cat', output='text'))"
   ]
  },
  {
   "cell_type": "markdown",
   "metadata": {},
   "source": [
    "Output is:\n",
    "\n",
    "```\n",
    "cat     cat[N]+N        10.203125\n",
    "cat     cat[V]+V+INF    18.454102\n",
    "```"
   ]
  },
  {
   "cell_type": "code",
   "execution_count": null,
   "metadata": {},
   "outputs": [],
   "source": [
    "print(generator.lookup('cat[N]+N', output='text'))"
   ]
  },
  {
   "cell_type": "markdown",
   "metadata": {},
   "source": [
    "Output is:\n",
    "\n",
    "```\n",
    "cat[N]+N        cat     10.203125\n",
    "cat[N]+N        Cat     15.745117\n",
    "```"
   ]
  },
  {
   "cell_type": "markdown",
   "metadata": {},
   "source": [
    "### 1.3 Compile the morphologies from source\n",
    "\n",
    "(TODO: the binaries are compiled with foma as hfst-xfst fails to produce the right result, so this will not work...)"
   ]
  },
  {
   "cell_type": "code",
   "execution_count": null,
   "metadata": {},
   "outputs": [],
   "source": [
    "from hfst_dev import compile_xfst_script"
   ]
  },
  {
   "cell_type": "code",
   "execution_count": null,
   "metadata": {},
   "outputs": [],
   "source": [
    "compile_xfst_file('hfst-en-morph-wn-bnc/src/english.script')\n",
    "analyzer = HfstTransducer.read_from_file('hfst-en-morph-wn-bnc/src/english.hfst')\n",
    "analyzer.lookup_optimize()\n",
    "generator = HfstTransducer(analyzer)\n",
    "generator.invert()\n",
    "generator.minimize()"
   ]
  },
  {
   "cell_type": "code",
   "execution_count": null,
   "metadata": {},
   "outputs": [],
   "source": [
    "print(analyzer.lookup('cat', output='text'))\n",
    "print(generator.lookup('cat[N]+N', output='text'))"
   ]
  },
  {
   "cell_type": "markdown",
   "metadata": {},
   "source": [
    "## 2. Generating your own morphologies:\n",
    "\n",
    "HFST supports LexC, TwolC and XFST formalisms.\n",
    "\n",
    "A very simple example that generates plural, singular and possessive forms\n",
    "for a couple of English lexemes using LexC:"
   ]
  },
  {
   "cell_type": "code",
   "execution_count": null,
   "metadata": {},
   "outputs": [],
   "source": [
    "from hfst_dev import compile_lexc_script"
   ]
  },
  {
   "cell_type": "code",
   "execution_count": null,
   "metadata": {},
   "outputs": [],
   "source": [
    "generator = compile_lexc_script(\n",
    "\"\"\"\n",
    "Multichar_Symbols\n",
    "\t+N\t! Noun tag\n",
    "        +Sg\t! Singular\n",
    "        +Pl\t! Plural\n",
    " \t+Poss\t! Possessive form\n",
    "\n",
    "LEXICON Root\n",
    "\tNouns ; ! No input, no output\n",
    "\n",
    "!\n",
    "! NOUNS start here\n",
    "!\n",
    "\n",
    "LEXICON Nouns\n",
    "\n",
    "cat\tN ;\n",
    "dog\tN ;\n",
    "\n",
    "church\t  N_s ;\n",
    "kiss\t  N_s ;\n",
    "\n",
    "beauty:beaut\tN_y ;\n",
    "sky:sk\t\tN_y ;\n",
    "\n",
    "\n",
    "! The noun lexica N and Num are used for stems without any alternation\n",
    "\n",
    "LEXICON N\n",
    "+N:0\tNum ;\n",
    "\n",
    "LEXICON Num\n",
    "+Sg:0\tPossWithS ;\n",
    "+Pl:s\tPossWithoutS ;\n",
    "\n",
    "! The noun lexica N_s and Num_s are used for stems that end in a sibilant\n",
    "! and need an extra inserted \"e\"\n",
    "\n",
    "LEXICON N_s\n",
    "+N:0\tNum_s ;\n",
    "\n",
    "LEXICON Num_s\n",
    "+Sg:0\tPossWithS ;\n",
    "+Pl:es\tPossWithoutS ;\n",
    "\n",
    "! The noun lexica N_y and Num_y are used for stems with \"y\" -> \"ie\" alternation\n",
    "\n",
    "LEXICON N_y\n",
    "+N:0\tNum_y ;\n",
    "\n",
    "LEXICON Num_y\n",
    "+Sg:y\tPossWithS ;\n",
    "+Pl:ies\tPossWithoutS ;\n",
    "\n",
    "! Possessive endings: usually the singular is 's and the plural is '\n",
    "\n",
    "LEXICON PossWithS\n",
    "+Poss:'s     # ;\n",
    "\t     # ; ! No ending: no input, no output\n",
    "\n",
    "LEXICON PossWithoutS\n",
    "+Poss:'\t     # ;\n",
    "\t     # ; ! No ending: no input, no output\n",
    "\n",
    "END\n",
    "\"\"\"\n",
    ")"
   ]
  },
  {
   "cell_type": "code",
   "execution_count": null,
   "metadata": {},
   "outputs": [],
   "source": [
    "generator.lookup_optimize()\n",
    "print(generator.lookup('sky+N+Pl'))"
   ]
  },
  {
   "cell_type": "markdown",
   "metadata": {},
   "source": [
    "We could also write the script to a file and then call compile_lexc_file."
   ]
  }
 ],
 "metadata": {
  "jupytext": {
   "main_language": "python",
   "text_representation": {
    "extension": ".py",
    "format_name": "light"
   }
  }
 },
 "nbformat": 4,
 "nbformat_minor": 2
}
