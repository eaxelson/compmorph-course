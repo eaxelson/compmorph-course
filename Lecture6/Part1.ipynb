{
 "cells": [
  {
   "cell_type": "markdown",
   "metadata": {},
   "source": [
    "# COMPUTATIONAL MORPHOLOGY WITH HFST TOOLS - LECTURE 6\n",
    "\n",
    "* (1.) Two-level rules\n",
    "* (2.) Example: English adjectives\n",
    "* (3.) Twol rule operators\n",
    "* (4.) Example: consonant gradation in English\n",
    "\n",
    "## 1. Two-level rules\n",
    "\n",
    "Recall the finite-state transducer for I&P English noun inflection (from lecture 1):\n",
    "\n",
    "<img src=\"img/noun_inflection.png\">\n",
    "\n",
    "```\n",
    "Example input:    ∅sky+N+Pl+Poss\n",
    "Example output:   ∅sky^  s  '\n",
    "```\n",
    "\n",
    "Xfst rules are placed in a series.\n",
    "We compose our lexicon with our rewrite rules (called “replace rules” in xfst)\n",
    "and  produce one single FST that “jumps” from the lexical-form input straight to\n",
    "the final output in one go, without producing the intermediate steps.\n",
    "\n",
    "# <i>Figures taken from an unpublished chapter \"Two-Level Rule Compiler\" of the Beesley & Karttunen 2003 book.\"</i>\n",
    "\n",
    "<img src=\"img/cascade.png\">\n",
    "\n",
    "```\n",
    "Example input:  sky+N+Pl+Poss\n",
    "Lexicon output: sky^s'\n",
    "Rule 1 output:  sky^es\n",
    "Rule 2 output:  ski^es\n",
    "Rule 3 output:  skies\n",
    "```\n",
    "\n",
    "The single FST will give directly: sky+N+Pl+Poss 🡒 skies.\n",
    "\n",
    "The order of the rules matters!\n",
    "\n",
    "Two-level morphology is different\n",
    "\n",
    "<img src=\"img/series.png\">\n",
    "\n",
    "* The order of the rules does not matter\n",
    "* The rule transducers are combined by intersection rather than composition\n",
    "\n",
    "Compare rule declarations for xfst vs. twol:\n",
    "\n",
    "<img src=\"img/rule_declarations_compared.png\">\n",
    "\n",
    "Some of the twol notation explained:\n",
    "\n",
    "<img src=\"img/twol_notation_explained.png\">"
   ]
  },
  {
   "cell_type": "markdown",
   "metadata": {},
   "source": [
    "## 2. Example: English adjectives\n",
    "\n",
    "Recall the lexicon (lexc) of some English adjectives from lecture 2:\n",
    "\n",
    "```\n",
    "Multichar_Symbols\n",
    "+A       ! Adjective tag\n",
    "+Pos     ! Positive\n",
    "+Cmp     ! Comparative\n",
    "+Sup     ! Superlative\n",
    "\n",
    "LEXICON Root\n",
    "Adjectives ;\n",
    "\n",
    "LEXICON Adjectives\n",
    "big     A ;\n",
    "cool    A ;\n",
    "crazy   A ;\n",
    "great   A ;\n",
    "grim    A ;\n",
    "happy   A ;\n",
    "hot     A ;\n",
    "long    A ;\n",
    "quick   A ;\n",
    "sad     A ;\n",
    "short   A ;\n",
    "slow    A ;\n",
    "small   A ;\n",
    "warm    A ;\n",
    "\n",
    "LEXICON A\n",
    "+A:^    Comparison ;\n",
    "\n",
    "LEXICON Comparison\n",
    "+Pos:0  # ;\n",
    "+Cmp:er # ;\n",
    "+Sup:est  # ;\n",
    "\n",
    "END\n",
    "```\n",
    "\n",
    "Also recall the corrected script (xfst) from Lecture 2 that is shown below with an equivalent script implemented with twolc:\n",
    "\n",
    "<img src=\"img/xfst_and_twolc_scripts.png\">\n",
    "\n",
    "Which one to use is mostly a matter of taste. The xfst syntax allows lexicon to be read from file\n",
    "and composed with the rules. In twolc, this must be done by hand(?). Compare the following:"
   ]
  },
  {
   "cell_type": "code",
   "execution_count": null,
   "metadata": {},
   "outputs": [],
   "source": [
    "from hfst_dev import compile_xfst_file, compile_twolc_file, compile_lexc_file\n",
    "from hfst_dev import intersect, compose, HfstTransducer"
   ]
  },
  {
   "cell_type": "code",
   "execution_count": null,
   "metadata": {},
   "outputs": [],
   "source": [
    "# The xfst script reads en_ip_adjectives_lexicon.lexc, composes it\n",
    "# with the xfst rules, and stores the result to en_adjectives.xfst.hfst.\n",
    "compile_xfst_file('en_adjectives.xfst')\n",
    "xfst = HfstTransducer.read_from_file('en_adjectives.xfst.hfst')\n",
    "print(xfst.lookup('big+A+Pos'))"
   ]
  },
  {
   "cell_type": "code",
   "execution_count": null,
   "metadata": {},
   "outputs": [],
   "source": [
    "# Explicitely compile the lexicon.\n",
    "lexicon = compile_lexc_file('en_ip_adjectives_lexicon.lexc')\n",
    "# Compile the twolc file and store the result to en_adjectives.twolc.hfst.\n",
    "compile_twolc_file('en_adjectives.twolc', 'en_adjectives.twolc.hfst')\n",
    "# Read the rules from file,\n",
    "twolc_rules = HfstTransducer.read_all_from_file('en_adjectives.twolc.hfst')\n",
    "# intersect them (not compose!),\n",
    "twolc_rule = intersect(twolc_rules)\n",
    "# and the lexicon with them.\n",
    "twolc = compose((lexicon, twolc_rule))\n",
    "print(twolc.lookup('big+A+Pos'))"
   ]
  },
  {
   "cell_type": "code",
   "execution_count": null,
   "metadata": {},
   "outputs": [],
   "source": [
    "# The results should be the same.\n",
    "assert(twolc.compare(xfst))"
   ]
  },
  {
   "cell_type": "markdown",
   "metadata": {},
   "source": [
    "## 3. Twol rule operators\n",
    "\n",
    "# <i>Figures taken from an unpublished chapter \"Two-Level Rule Compiler\" of the Beesley & Karttunen 2003 book.\"</i>\n",
    "\n",
    "### twolc rule operators\n",
    "\n",
    "<img src=\"img/twolc_rule_operators.png\">\n",
    "\n",
    "### Examples of twolc operators in context\n",
    "\n",
    "<img src=\"img/twolc_rule_operator_examples.png\">\n",
    "\n",
    "### Resolving conflicting rules\n",
    "\n",
    "<img src=\"img/resolving_conflicting_rules.png\">"
   ]
  },
  {
   "cell_type": "code",
   "execution_count": null,
   "metadata": {},
   "outputs": [],
   "source": [
    "compile_twolc_file('conflicting_rules.twolc', 'conflicting_rules.twolc.hfst')\n",
    "twolc_rules = HfstTransducer.read_all_from_file('conflicting_rules.twolc.hfst')\n",
    "twolc = intersect(twolc_rules)\n",
    "print(twolc.lookup('rar'))\n",
    "print(twolc.lookup('lar'))"
   ]
  },
  {
   "cell_type": "markdown",
   "metadata": {},
   "source": [
    "Expect the result:\n",
    "```\n",
    "rar: (('rbr', 0.0),)\n",
    "lar: (('lcr', 0.0),)\n",
    "```"
   ]
  },
  {
   "cell_type": "markdown",
   "metadata": {},
   "source": [
    "## 4. Example: consonant gradation in English\n",
    "\n",
    "<i>Examples taken from from: Karttunen & Beesley's \"Two-Level Rule Compiler\".</i>\n",
    "\n",
    "Consonant gradation in Finnish\n",
    "\n",
    "<img src=\"img/consonant_gradation_in_finnish.png\"> \n",
    "\n",
    "Two-level grammar for consonant gradation\n",
    "\n",
    "<img src=\"img/consonant_gradation_twolc.png\">\n",
    "\n",
    "More information\n",
    "\n",
    "* Unpublished chapter of Beesley & Karttunen (2003): “Two-Level Rule Compiler”: http://web.stanford.edu/~laurik/.book2software/twolc.pdf\n",
    "* Karttunen & Beesley (1992): Two-Level Rule Compiler. Technical Report. ISTL-92-2. Xerox Palo Alto Research Center, California. http://www.cis.upenn.edu/~cis639/docs/twolc.html\n",
    "* HFST: Tutorial hfst-lexc and hfst-twolc: TODO\n"
   ]
  }
 ],
 "metadata": {
  "jupytext": {
   "main_language": "python",
   "text_representation": {
    "extension": ".py",
    "format_name": "light"
   }
  }
 },
 "nbformat": 4,
 "nbformat_minor": 2
}
